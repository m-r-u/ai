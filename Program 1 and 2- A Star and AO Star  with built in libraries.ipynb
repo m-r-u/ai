{
 "cells": [
  {
   "cell_type": "markdown",
   "id": "ac7d3495",
   "metadata": {},
   "source": [
    "### To install  heuristicsearch"
   ]
  },
  {
   "cell_type": "code",
   "execution_count": 3,
   "id": "0d59a6d7",
   "metadata": {},
   "outputs": [
    {
     "name": "stdout",
     "output_type": "stream",
     "text": [
      "Requirement already satisfied: heuristicsearch in c:\\users\\91807\\anaconda3\\lib\\site-packages (0.1.1)\n",
      "Note: you may need to restart the kernel to use updated packages.\n"
     ]
    }
   ],
   "source": [
    "pip install heuristicsearch"
   ]
  },
  {
   "cell_type": "markdown",
   "id": "c4a9858b",
   "metadata": {},
   "source": [
    "### A* with Built in Libraries "
   ]
  },
  {
   "cell_type": "code",
   "execution_count": 4,
   "id": "c28caae2",
   "metadata": {},
   "outputs": [
    {
     "name": "stdout",
     "output_type": "stream",
     "text": [
      "Path\n",
      "A -> F -> G -> I -> J\n",
      "Cost\n",
      "0 -> 3 -> 4 -> 7 -> 10\n"
     ]
    }
   ],
   "source": [
    "from heuristicsearch.a_star_search import AStar\n",
    "graph_nodes = {\n",
    "'A': [('B', 6), ('F', 3)],\n",
    "'B': [('C', 3), ('D', 2)],\n",
    "'C': [('D', 1), ('E', 5)],\n",
    "'D': [('C', 1), ('E', 8)],\n",
    "'E': [('I', 5), ('J', 5)],\n",
    "'F': [('G', 1),('H', 7)] ,\n",
    "'G': [('I', 3)],\n",
    "'H': [('I', 2)],\n",
    "'I': [('E', 5), ('J', 3)]\n",
    "}\n",
    "heuristics = {'A': 10,'B': 8,'C': 5,'D': 7,'E': 3,'F': 6,'G': 5,'H': 3,'I': 1,'J': 0}\n",
    "graph= AStar(graph_nodes,heuristics)\n",
    "graph.apply_a_star(start='A', stop='J')"
   ]
  },
  {
   "cell_type": "markdown",
   "id": "6e965b94",
   "metadata": {},
   "source": [
    "### AO* with Built in Libraries "
   ]
  },
  {
   "cell_type": "code",
   "execution_count": 5,
   "id": "d43165b3",
   "metadata": {},
   "outputs": [
    {
     "name": "stdout",
     "output_type": "stream",
     "text": [
      "Graph-1\n",
      "PROCESSING NODE : S\n",
      "-----------------------------------------------------------------------------------------\n",
      "14 ['C']\n",
      "\n",
      "PROCESSING NODE : C\n",
      "-----------------------------------------------------------------------------------------\n",
      "14 ['F', 'G']\n",
      "\n",
      "PROCESSING NODE : S\n",
      "-----------------------------------------------------------------------------------------\n",
      "15 ['C']\n",
      "\n",
      "PROCESSING NODE : F\n",
      "-----------------------------------------------------------------------------------------\n",
      "0 []\n",
      "\n",
      "PROCESSING NODE : C\n",
      "-----------------------------------------------------------------------------------------\n",
      "9 ['F', 'G']\n",
      "\n",
      "PROCESSING NODE : S\n",
      "-----------------------------------------------------------------------------------------\n",
      "10 ['C']\n",
      "\n",
      "PROCESSING NODE : G\n",
      "-----------------------------------------------------------------------------------------\n",
      "0 []\n",
      "\n",
      "PROCESSING NODE : C\n",
      "-----------------------------------------------------------------------------------------\n",
      "2 ['F', 'G']\n",
      "\n",
      "PROCESSING NODE : S\n",
      "-----------------------------------------------------------------------------------------\n",
      "3 ['C']\n",
      "\n",
      "FOR THE SOLUTION, TRAVERSE THE GRAPH FROM THE START NODE: S\n",
      "------------------------------------------------------------\n",
      "{'F': [], 'G': [], 'C': ['F', 'G'], 'S': ['C']}\n",
      "------------------------------------------------------------\n"
     ]
    }
   ],
   "source": [
    "from heuristicsearch.ao_star import AOStar\n",
    "print(\"Graph-1\")\n",
    "heuristic = {'S': 1, 'A': 7, 'B': 12, 'C': 13, 'D': 5, 'E': 6, 'F': 5, 'G': 7, 'H': 2,}\n",
    "adjacency_matrix = {\n",
    "'S': [[('A', 1), ('B', 1)], [('C', 1)]],\n",
    "'A': [[('D', 1)], [('E', 1)]],\n",
    "'C': [[('F', 1), ('G', 1)]],\n",
    "'D': [('H', 1)]\n",
    "}\n",
    "graph=AOStar(adjacency_matrix,heuristic,'S')\n",
    "graph.applyAOStar()"
   ]
  }
 ],
 "metadata": {
  "kernelspec": {
   "display_name": "Python 3 (ipykernel)",
   "language": "python",
   "name": "python3"
  },
  "language_info": {
   "codemirror_mode": {
    "name": "ipython",
    "version": 3
   },
   "file_extension": ".py",
   "mimetype": "text/x-python",
   "name": "python",
   "nbconvert_exporter": "python",
   "pygments_lexer": "ipython3",
   "version": "3.9.12"
  }
 },
 "nbformat": 4,
 "nbformat_minor": 5
}
